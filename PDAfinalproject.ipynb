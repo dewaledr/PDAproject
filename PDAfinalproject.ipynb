{
 "cells": [
  {
   "cell_type": "markdown",
   "metadata": {},
   "source": [
    "# Simulating and Modelling datasets for investigating…… using Python the numpy.random package (real life Scenario)\n",
    "## Abstract:\n",
    "---Work in progress---\n",
    "## In this project, we:\n",
    "1.\tChose a real-world phenomenon that can be measured and for we could model at least 100 data points across 4 different variables.\n",
    "2.\tInvestigate the types of variables involved, their likely distributions, and their\n",
    "3.\trelationships with each other\n",
    "4.\tSynthesise/simulate a data set as closely matching their properties as possible.\n",
    "5.\tWe present the details of our research findings and implement the simulation in this  Jupyter notebook\n",
    "\n",
    "# Submitted by: Francis Adepoju (G00364694)"
   ]
  },
  {
   "cell_type": "code",
   "execution_count": null,
   "metadata": {},
   "outputs": [],
   "source": []
  }
 ],
 "metadata": {
  "kernelspec": {
   "display_name": "Python 3",
   "language": "python",
   "name": "python3"
  },
  "language_info": {
   "codemirror_mode": {
    "name": "ipython",
    "version": 3
   },
   "file_extension": ".py",
   "mimetype": "text/x-python",
   "name": "python",
   "nbconvert_exporter": "python",
   "pygments_lexer": "ipython3",
   "version": "3.7.0"
  }
 },
 "nbformat": 4,
 "nbformat_minor": 2
}
