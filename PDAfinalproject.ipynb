{
 "cells": [
  {
   "cell_type": "markdown",
   "metadata": {},
   "source": [
    "# Simulating and Modelling datasets for investigating the effects of six weeks aerobic and anaerobic intermittent swimming on VO2max and other lung volumes and capacities in athletes using the numpy.random package.\n",
    "## Abstract:\n",
    "Increased interests in physical exercises and the continued involvement in special exercises to enhance uptimum performance and to excel in sports bring many questions. One of them has to do with the kinds of possible physiological changes in the athlete during performance. For athletes, the primary area of interest is the respiratory organs.\n",
    "So, the questions to investigate are: \n",
    "- What are the most important possible changes in the respiratory system? \n",
    "- How could the respiratory system changes help the athletes to plan and develop their skills, etc.\n",
    "\n",
    "\n",
    "## In this project, we:\n",
    "1.  Chose a real-world phenomenon that can be measured and for which we could model at least 100 data points across 4 different variables, among 2 groups.\n",
    "2.  We conducted an investigation of the types of variables involved, their likely distributions, and their relationships with each other and we synthesized/simulated a data set as closely matching their properties as possible.\n",
    "3. Details of our research findings and implementation of the simulated data are presented in this Jupyter notebook.\n",
    "\n",
    "# Submitted by: Francis Adepoju (G00364694)"
   ]
  },
  {
   "cell_type": "markdown",
   "metadata": {},
   "source": [
    "### Definition:\n",
    "1. Aerobic Exercise: Exercise regime designed to increase heart and lung activity while toning muscles by burning fat.\n",
    "2. Anaerobic Exercise: Exercises such as weight training that improves the athlete’s strength but does not raise his/her heart rate.\n"
   ]
  },
  {
   "cell_type": "code",
   "execution_count": null,
   "metadata": {},
   "outputs": [],
   "source": []
  },
  {
   "cell_type": "markdown",
   "metadata": {},
   "source": [
    "Within the human body’s functioning system, respiratory system is special. This is because the respiratory organs play important and prominent role in metabolism to provide the necessary energy for different body tissues and\n",
    "organs in order to perform their various roles in the body.\n",
    "Research has confirmed that the respiratory system is influenced by short and long term exercises[ 1].\n",
    "\n",
    "In order to enhance the athlete’s performance, most coaches expose the athletes to a session of aerobic or anaerobic intermittent exercise and training. Engaging in intermittent exercises has been proven to be effective for physical preparation of the athlete by considerably increasing or developing, and to also help promote the efficiency of different body systems, especially the respiratory system which is of great importance in the athlete’s physical preparation [2].\n",
    "It has been observed in [2] that Aerobic and Anaerobic Intermittent exercises play important roles in promoting VO2max level of athlete from different sport fields. They enable the athlete to be able to do more work with reduced exhaustion. Some of the researchers do believe that intermittent exercises in addition to increasing the level of VO2max also influence some of pulmonary capacities and volumes. This can be attributed to the effects of increase in respiratory muscles strength and pulmonary performance.\n",
    "\n",
    "The maximum oxygen the body uses during exercise in order to get exhausted is referred to as VO2max. It is the estimation of the maximum consumed oxygen. The maximum consumed oxygen is one of the best variables for predicting cardiorespiratory endurance and aerobic preparation. \n",
    "As the individuals need for energy is proportional to the body size, so is the maximum energy consumption (VO2max) can also be expressed as a function of the body weight. The regular aerobic physical\n",
    "activity cause increase in VO2max [3].\n",
    "\n",
    "Because there is a strong link between VO2max and pulmonary capacities and volumes, we decided to model the influence of aerobic and anaerobic intermittent swimming exercises on VO2max, Expiratory Reserve Volume(ERV), Residual Volume(RV), and Total Lung Capacity(TLC) of a simulated batch of athletes – before and after a session of six-weeks of aerobic and anaerobic intermittent exercises in 100 athletes (50 in each group).\n"
   ]
  },
  {
   "cell_type": "markdown",
   "metadata": {},
   "source": [
    "# Synthesized Data"
   ]
  },
  {
   "cell_type": "markdown",
   "metadata": {},
   "source": [
    "## Typical Values for male athletes age 18 - 35 years old\n",
    "## REF:\n",
    "- https://www.topendsports.com/testing/norms/vo2max.htm \n",
    "- https://quizlet.com/4625921/respiratory-definitions-flash-cards\n",
    "#### VO2x  = Typical Value: 52 – 60 ml/kg/min\n",
    "- Definition:The maximum oxygen the body uses during exercise in order to get exhausted. It is the estimation of the maximum consumed oxygen.\n",
    "#### Expiratory Reserve Volume (ERV) - Typical Value:1200ml\n",
    "- Definition: Amount of air in excess of tidal expiration that can be exhaled with maximum effort.\n",
    "#### Residual Volume (RV) Typical Value: 1200ml\n",
    "- Definition: Amount of air remaining in the lungs after maximum expiration; keeps alveoli inflated between breaths and mixes with fresh air on next inspiration\n",
    "#### Vital Capacity (VC) - Typical Value: 4700ml\n",
    "- Definition: Amount of air that can be exhaled with maximum effort after maximum inspiration (ERV+TV+IRV); used to assess strength of thoracic muscles as well as pulmonary function\n",
    "#### Total Lung Capacity (TLC)  Typical Value: 5900ml\n",
    "- Definition: Maximum amount of air in the lungs can contain (RV+VC)"
   ]
  },
  {
   "cell_type": "markdown",
   "metadata": {},
   "source": [
    "# Why random.normal distribution?\n",
    "###### REF:  [https://www.globalfinanceschool.com/book/statistics/characteristics-normal-probability-distribution]\n",
    "\n",
    "1. The normal probability distribution reflects the distribution of a continuous variable, which can receive any numerical value, i.e., whole., numbers (for example, 5000), numbers with fractions (for instance, 101.25), positive numbers and negative numbers although there are no negative numbers in our simulation.\n",
    "2. The height reflects a probability - the height of the previous curve and every number reflects the chances of that number occurring as compared to the other numbers. The further away we get from the center (either to the left or the right), then the smaller is the chance of the occurrence.\n",
    "3. The center is the expectation - the center result reflects the average, and the chance of getting it is higher than any other number. The reason why the center result is the average is that the curve is symmetric around the center. This means that for every result to the right of the center that contributes to increasing the average, there is also a result that is at the same distance to the left that has an equal chance of occurring, which contributes an equivalent degree toward decreasing the average.\n",
    "4. Symmetry - the normal probability distribution is symmetric relative to the average. This means that the chances of obtaining a result exceeding the average by 10 is equal to the chance of receiving a result that is smaller than the average by 10\n"
   ]
  },
  {
   "cell_type": "markdown",
   "metadata": {},
   "source": [
    "## LEGEND:\n",
    "1. VO2xb \t= VO2max measured before six-weeks of aerobic and anaerobic intermittent exercises\n",
    "2. VO2xa \t= VO2max measured after six-weeks of aerobic and anaerobic intermittent exercises\n",
    "3. ERVb \t= Expiratory Reserve Volume (ERV) measured before six-weeks of exercises\n",
    "4. ERVa \t= Expiratory Reserve Volume (ERV) measured after six-weeks of exercises\n",
    "5. VCb  \t= Vital Capacity (VC) measured before six-weeks of exercises\n",
    "6. VCa \t    = Vital Capacity (VC) measured after six-weeks of exercises\n",
    "7. RVb\t    = Residual Volume (RV) measured before six-weeks of exercises\n",
    "8. RVa \t    = Residual Volume (RV) measured after six-weeks of exercises\n",
    "9. TLCb \t= Total Lung Capacity (TLC) measured before six-weeks of exercises\n",
    "10. TLCa \t= Total Lung Capacity (TLC) measured after six-weeks of exercises\n",
    "11. group   = aerobic or anaerobic "
   ]
  },
  {
   "cell_type": "code",
   "execution_count": 55,
   "metadata": {},
   "outputs": [
    {
     "name": "stdout",
     "output_type": "stream",
     "text": [
      "First 10 dataFrame Elements\n",
      "       vo2b       vo2a         ervb         erva         vcb          vca    \\\n",
      "0  55.135342  51.606780  1099.986024  1198.579051  4550.104256  4750.358151   \n",
      "1  55.031407  48.884290  1100.053136  1200.321660  4549.985409  4750.020895   \n",
      "2  55.045398  48.614621  1100.087601  1201.007324  4550.059565  4749.667862   \n",
      "3  55.025191  48.670340  1100.034777  1200.329784  4550.017032  4751.119649   \n",
      "4  55.032556  50.041460  1100.007683  1200.920525  4549.938297  4751.270049   \n",
      "5  54.984034  49.588945  1100.008382  1201.349138  4549.952724  4748.626237   \n",
      "6  54.957596  49.228671  1099.961703  1199.622139  4549.979949  4747.413740   \n",
      "7  55.030298  50.110477  1100.048115  1201.955420  4549.911026  4749.337806   \n",
      "8  54.899092  49.195348  1100.045141  1199.141696  4549.998865  4750.344103   \n",
      "9  55.037006  50.253548  1099.973105  1199.777790  4550.001574  4750.278575   \n",
      "\n",
      "         rvb          rva          tlcb         tlca     group  \n",
      "0  1119.941947  1250.102885  5500.988461  6000.536932  aerobic  \n",
      "1  1120.016964  1249.168988  5500.931729  5998.529987  aerobic  \n",
      "2  1119.955147  1248.392821  5501.034088  6000.701910  aerobic  \n",
      "3  1120.021639  1248.520652  5500.978425  6001.550226  aerobic  \n",
      "4  1119.985978  1249.012111  5501.011733  6002.155953  aerobic  \n",
      "5  1120.050727  1249.516766  5501.009673  6000.177432  aerobic  \n",
      "6  1120.045846  1249.799640  5500.999766  6000.296588  aerobic  \n",
      "7  1120.105938  1251.052753  5501.015434  5999.899809  aerobic  \n",
      "8  1120.063165  1249.518916  5501.037506  6001.703387  aerobic  \n",
      "9  1120.026848  1250.376682  5500.995644  6000.530008  aerobic  \n",
      "\n",
      "Middle 10 dataFrame Elements\n",
      "        vo2b       vo2a         ervb         erva         vcb          vca    \\\n",
      "45  54.992170  49.590682  1100.047102  1200.529927  4549.999556  4751.214762   \n",
      "46  54.998421  50.343539  1099.951233  1200.940120  4549.996394  4750.024628   \n",
      "47  55.032491  50.196275  1099.947257  1200.746221  4550.064627  4748.797150   \n",
      "48  55.107742  49.017224  1100.108271  1199.858734  4549.989287  4749.082362   \n",
      "49  54.969487  52.231555  1099.936638  1200.085529  4550.016250  4750.263543   \n",
      "50  54.962234  49.028607  1099.959858  1198.116191  4549.949031  4748.618149   \n",
      "51  54.982679  48.477667  1099.987326  1198.685858  4549.937832  4750.528591   \n",
      "52  55.007351  51.133703  1100.004535  1202.601240  4549.981666  4749.041295   \n",
      "53  54.976028  50.528187  1100.066086  1199.387448  4550.029467  4749.515592   \n",
      "54  55.027938  50.393461  1100.039706  1198.285037  4550.130983  4749.455921   \n",
      "\n",
      "          rvb          rva          tlcb         tlca       group  \n",
      "45  1120.037910  1248.982582  5500.988816  6000.743932    aerobic  \n",
      "46  1120.012698  1251.918273  5500.969751  5999.176207    aerobic  \n",
      "47  1119.990005  1249.094204  5501.009312  6000.081843    aerobic  \n",
      "48  1119.948010  1248.616363  5501.086902  6000.509719    aerobic  \n",
      "49  1120.016952  1247.588648  5501.025654  5999.919097    aerobic  \n",
      "50  1119.945251  1251.821488  5501.017852  6000.085605  anaerobic  \n",
      "51  1119.898572  1250.677383  5500.954695  5996.902861  anaerobic  \n",
      "52  1120.048380  1249.458155  5501.098017  6001.684250  anaerobic  \n",
      "53  1119.986725  1247.549726  5501.045420  5999.840133  anaerobic  \n",
      "54  1119.975523  1248.920044  5501.082271  6001.727871  anaerobic  \n",
      "\n",
      "Last 10 dataFrame Elements\n",
      "        vo2b       vo2a         ervb         erva         vcb          vca    \\\n",
      "90  54.971571  48.764386  1099.897372  1198.805301  4550.076834  4749.649336   \n",
      "91  55.070367  49.201572  1099.991668  1199.854769  4549.905273  4751.547742   \n",
      "92  55.032090  50.754121  1099.977706  1200.013519  4549.892504  4751.070922   \n",
      "93  54.954745  49.227959  1100.034294  1197.843512  4549.976662  4749.939085   \n",
      "94  54.980442  49.965568  1100.139250  1199.505083  4550.022015  4750.471550   \n",
      "95  55.051415  50.688408  1100.076188  1200.071770  4550.029043  4750.950493   \n",
      "96  54.901370  50.081523  1100.064511  1198.708441  4549.986464  4749.693565   \n",
      "97  54.956656  49.584809  1099.926084  1201.001002  4549.893198  4750.861754   \n",
      "98  55.036039  50.053661  1100.010712  1201.669011  4550.094607  4751.063417   \n",
      "99  54.938846  47.884887  1099.987975  1201.480148  4549.965107  4749.399960   \n",
      "\n",
      "          rvb          rva          tlcb         tlca       group  \n",
      "90  1119.992743  1250.782733  5501.017261  6002.057000  anaerobic  \n",
      "91  1119.986160  1249.632638  5500.991566  6000.722665  anaerobic  \n",
      "92  1119.971876  1250.027676  5501.064646  6000.127752  anaerobic  \n",
      "93  1120.035177  1248.479713  5500.906643  5999.284061  anaerobic  \n",
      "94  1119.962117  1250.046173  5500.907113  5999.662401  anaerobic  \n",
      "95  1120.011983  1250.860423  5500.940777  5999.213095  anaerobic  \n",
      "96  1119.980671  1250.582454  5501.000961  5999.596006  anaerobic  \n",
      "97  1119.980441  1249.758189  5500.900753  6000.198482  anaerobic  \n",
      "98  1119.975543  1251.010868  5500.946831  6000.646044  anaerobic  \n",
      "99  1120.143224  1249.409169  5501.034286  5999.638893  anaerobic  \n"
     ]
    }
   ],
   "source": [
    "import numpy as np\n",
    "import pandas as pd\n",
    "\n",
    "# REF: \n",
    "# Book Python for Data Analysis, Wes McKinney,Second Edition, O'Reilly, 2018. Pg. 128 - 135\n",
    "np.random.seed(101)\n",
    "myData = pd.DataFrame({'vo2b ': np.random.normal(55, 0.05, 100), \n",
    "                      'vo2a ': np.random.normal(50, 1, 100),\n",
    "                      'ervb ': np.random.normal(1100, 0.05, 100),\n",
    "                      'erva ': np.random.normal(1200, 1, 100),\n",
    "                      'vcb  ': np.random.normal(4550, 0.05, 100),\n",
    "                      'vca  ': np.random.normal(4750, 1, 100),\n",
    "                      'rvb  ': np.random.normal(1120, 0.05, 100),\n",
    "                      'rva  ': np.random.normal(1250, 1, 100),\n",
    "                      'tlcb ': np.random.normal(5501, 0.05, 100),\n",
    "                      'tlca ': np.random.normal(6000, 1, 100),\n",
    "                      'group':np.random.randint(0,1,100)\n",
    "                     })\n",
    "# The next 2 lines generated some error warnings! Online search of the pandas documentation helped to resolve it...\n",
    "    #myData.group[:49] = 'aerobic'\n",
    "    #myData.group[50:] = 'anaerobic'\n",
    "\n",
    "    # Solution adapted from REF: http://pandas.pydata.org/pandas-docs/stable/indexing.html#indexing-view-versus-copy\n",
    "myData.loc[:49,('group')] = 'aerobic'\n",
    "myData.loc[50:,('group')] = 'anaerobic'\n",
    "\n",
    "print(\"First 10 dataFrame Elements\")\n",
    "print(myData.head(10))   ## Peek into the first 10 data ...OK\n",
    "print()\n",
    "print(\"Middle 10 dataFrame Elements\")\n",
    "print(myData[45:55])     ## To View the middle 10/boundary data ...OK\n",
    "print()\n",
    "print(\"Last 10 dataFrame Elements\")\n",
    "print(myData.tail(10))   ## ...and the last 10 data ...OK"
   ]
  },
  {
   "cell_type": "markdown",
   "metadata": {},
   "source": [
    "# Plots:"
   ]
  },
  {
   "cell_type": "code",
   "execution_count": null,
   "metadata": {},
   "outputs": [],
   "source": []
  }
 ],
 "metadata": {
  "kernelspec": {
   "display_name": "Python 3",
   "language": "python",
   "name": "python3"
  },
  "language_info": {
   "codemirror_mode": {
    "name": "ipython",
    "version": 3
   },
   "file_extension": ".py",
   "mimetype": "text/x-python",
   "name": "python",
   "nbconvert_exporter": "python",
   "pygments_lexer": "ipython3",
   "version": "3.7.0"
  }
 },
 "nbformat": 4,
 "nbformat_minor": 2
}
