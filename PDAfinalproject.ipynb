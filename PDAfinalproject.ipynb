{
 "cells": [
  {
   "cell_type": "markdown",
   "metadata": {},
   "source": [
    "# Simulating and Modelling datasets for investigating the effects of six weeks aerobic and anaerobic intermittent swimming on VO2max and other lung volumes and capacities in athletes using the numpy.random package.\n",
    "## Abstract:\n",
    "Increased interests in physical exercises and the continued involvement in special exercises to enhance uptimum performance and to excel in sports bring many questions. One of them has to do with the kinds of possible physiological changes in the athlete during performance. For athletes, the primary area of interest is the respiratory organs.\n",
    "So, the questions to investigate are: \n",
    "- What are the most important possible changes in the respiratory system? \n",
    "- How could the respiratory system changes help the athletes to plan and develop their skills, etc.\n",
    "\n",
    "\n",
    "## In this project, we:\n",
    "1.  Chose a real-world phenomenon that can be measured and for which we could model at least 100 data points across 4 different variables, among 2 groups.\n",
    "2.  We conducted an investigation of the types of variables involved, their likely distributions, and their relationships with each other and we synthesized/simulated a data set as closely matching their properties as possible.\n",
    "3. Details of our research findings and implementation of the simulated data are presented in this Jupyter notebook.\n",
    "\n",
    "# Submitted by: Francis Adepoju (G00364694)"
   ]
  },
  {
   "cell_type": "markdown",
   "metadata": {},
   "source": [
    "### Definition:\n",
    "1. Aerobic Exercise: Exercise regime designed to increase heart and lung activity while toning muscles by burning fat.\n",
    "2. Anaerobic Exercise: Exercises such as weight training that improves the athlete’s strength but does not raise his/her heart rate.\n"
   ]
  },
  {
   "cell_type": "code",
   "execution_count": null,
   "metadata": {},
   "outputs": [],
   "source": []
  },
  {
   "cell_type": "markdown",
   "metadata": {},
   "source": [
    "Within the human body’s functioning system, respiratory system is special. This is because the respiratory organs play important and prominent role in metabolism to provide the necessary energy for different body tissues and\n",
    "organs in order to perform their various roles in the body.\n",
    "Research has confirmed that the respiratory system is influenced by short and long term exercises[ 1].\n",
    "\n",
    "In order to enhance the athlete’s performance, most coaches expose the athletes to a session of aerobic or anaerobic intermittent exercise and training. Engaging in intermittent exercises has been proven to be effective for physical preparation of the athlete by considerably increasing or developing, and to also help promote the efficiency of different body systems, especially the respiratory system which is of great importance in the athlete’s physical preparation [2].\n",
    "It has been observed in [2] that Aerobic and Anaerobic Intermittent exercises play important roles in promoting VO2max level of athlete from different sport fields. They enable the athlete to be able to do more work with reduced exhaustion. Some of the researchers do believe that intermittent exercises in addition to increasing the level of VO2max also influence some of pulmonary capacities and volumes. This can be attributed to the effects of increase in respiratory muscles strength and pulmonary performance.\n",
    "\n",
    "The maximum oxygen the body uses during exercise in order to get exhausted is referred to as VO2max. It is the estimation of the maximum consumed oxygen. The maximum consumed oxygen is one of the best variables for predicting cardiorespiratory endurance and aerobic preparation. \n",
    "As the individuals need for energy is proportional to the body size, so is the maximum energy consumption (VO2max) can also be expressed as a function of the body weight. The regular aerobic physical\n",
    "activity cause increase in VO2max [3].\n",
    "\n",
    "Because there is a strong link between VO2max and pulmonary capacities and volumes, we decided to model the influence of aerobic and anaerobic intermittent swimming exercises on VO2max, Expiratory Reserve Volume(ERV), Residual Volume(RV), and Total Lung Capacity(TLC) of a simulated batch of athletes – before and after a session of six-weeks of aerobic and anaerobic intermittent exercises in 100 athletes (50 in each group).\n"
   ]
  },
  {
   "cell_type": "code",
   "execution_count": null,
   "metadata": {},
   "outputs": [],
   "source": []
  }
 ],
 "metadata": {
  "kernelspec": {
   "display_name": "Python 3",
   "language": "python",
   "name": "python3"
  },
  "language_info": {
   "codemirror_mode": {
    "name": "ipython",
    "version": 3
   },
   "file_extension": ".py",
   "mimetype": "text/x-python",
   "name": "python",
   "nbconvert_exporter": "python",
   "pygments_lexer": "ipython3",
   "version": "3.7.0"
  }
 },
 "nbformat": 4,
 "nbformat_minor": 2
}
